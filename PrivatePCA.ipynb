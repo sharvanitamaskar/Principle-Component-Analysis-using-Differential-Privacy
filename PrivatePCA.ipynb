{
  "nbformat": 4,
  "nbformat_minor": 0,
  "metadata": {
    "colab": {
      "provenance": [],
      "authorship_tag": "ABX9TyO6NWrBDrtacuFW32A+EvoS",
      "include_colab_link": true
    },
    "kernelspec": {
      "name": "python3",
      "display_name": "Python 3"
    },
    "language_info": {
      "name": "python"
    }
  },
  "cells": [
    {
      "cell_type": "markdown",
      "metadata": {
        "id": "view-in-github",
        "colab_type": "text"
      },
      "source": [
        "<a href=\"https://colab.research.google.com/github/sharvanitamaskar/PrivatePCA/blob/main/PrivatePCA.ipynb\" target=\"_parent\"><img src=\"https://colab.research.google.com/assets/colab-badge.svg\" alt=\"Open In Colab\"/></a>"
      ]
    },
    {
      "cell_type": "code",
      "execution_count": 75,
      "metadata": {
        "id": "AxCyxaJIEbh_"
      },
      "outputs": [],
      "source": [
        "import numpy as np\n",
        "import pandas as pd\n",
        "from io import StringIO"
      ]
    },
    {
      "cell_type": "code",
      "source": [
        "from google.colab import files\n",
        "uploaded = files.upload()\n"
      ],
      "metadata": {
        "colab": {
          "base_uri": "https://localhost:8080/",
          "height": 73
        },
        "id": "uxdQotac6wOi",
        "outputId": "0ba1f633-a0d5-4093-ab4c-159187b61482"
      },
      "execution_count": 45,
      "outputs": [
        {
          "output_type": "display_data",
          "data": {
            "text/plain": [
              "<IPython.core.display.HTML object>"
            ],
            "text/html": [
              "\n",
              "     <input type=\"file\" id=\"files-dd65291d-2a6b-4c5c-9b67-88ba76778567\" name=\"files[]\" multiple disabled\n",
              "        style=\"border:none\" />\n",
              "     <output id=\"result-dd65291d-2a6b-4c5c-9b67-88ba76778567\">\n",
              "      Upload widget is only available when the cell has been executed in the\n",
              "      current browser session. Please rerun this cell to enable.\n",
              "      </output>\n",
              "      <script>// Copyright 2017 Google LLC\n",
              "//\n",
              "// Licensed under the Apache License, Version 2.0 (the \"License\");\n",
              "// you may not use this file except in compliance with the License.\n",
              "// You may obtain a copy of the License at\n",
              "//\n",
              "//      http://www.apache.org/licenses/LICENSE-2.0\n",
              "//\n",
              "// Unless required by applicable law or agreed to in writing, software\n",
              "// distributed under the License is distributed on an \"AS IS\" BASIS,\n",
              "// WITHOUT WARRANTIES OR CONDITIONS OF ANY KIND, either express or implied.\n",
              "// See the License for the specific language governing permissions and\n",
              "// limitations under the License.\n",
              "\n",
              "/**\n",
              " * @fileoverview Helpers for google.colab Python module.\n",
              " */\n",
              "(function(scope) {\n",
              "function span(text, styleAttributes = {}) {\n",
              "  const element = document.createElement('span');\n",
              "  element.textContent = text;\n",
              "  for (const key of Object.keys(styleAttributes)) {\n",
              "    element.style[key] = styleAttributes[key];\n",
              "  }\n",
              "  return element;\n",
              "}\n",
              "\n",
              "// Max number of bytes which will be uploaded at a time.\n",
              "const MAX_PAYLOAD_SIZE = 100 * 1024;\n",
              "\n",
              "function _uploadFiles(inputId, outputId) {\n",
              "  const steps = uploadFilesStep(inputId, outputId);\n",
              "  const outputElement = document.getElementById(outputId);\n",
              "  // Cache steps on the outputElement to make it available for the next call\n",
              "  // to uploadFilesContinue from Python.\n",
              "  outputElement.steps = steps;\n",
              "\n",
              "  return _uploadFilesContinue(outputId);\n",
              "}\n",
              "\n",
              "// This is roughly an async generator (not supported in the browser yet),\n",
              "// where there are multiple asynchronous steps and the Python side is going\n",
              "// to poll for completion of each step.\n",
              "// This uses a Promise to block the python side on completion of each step,\n",
              "// then passes the result of the previous step as the input to the next step.\n",
              "function _uploadFilesContinue(outputId) {\n",
              "  const outputElement = document.getElementById(outputId);\n",
              "  const steps = outputElement.steps;\n",
              "\n",
              "  const next = steps.next(outputElement.lastPromiseValue);\n",
              "  return Promise.resolve(next.value.promise).then((value) => {\n",
              "    // Cache the last promise value to make it available to the next\n",
              "    // step of the generator.\n",
              "    outputElement.lastPromiseValue = value;\n",
              "    return next.value.response;\n",
              "  });\n",
              "}\n",
              "\n",
              "/**\n",
              " * Generator function which is called between each async step of the upload\n",
              " * process.\n",
              " * @param {string} inputId Element ID of the input file picker element.\n",
              " * @param {string} outputId Element ID of the output display.\n",
              " * @return {!Iterable<!Object>} Iterable of next steps.\n",
              " */\n",
              "function* uploadFilesStep(inputId, outputId) {\n",
              "  const inputElement = document.getElementById(inputId);\n",
              "  inputElement.disabled = false;\n",
              "\n",
              "  const outputElement = document.getElementById(outputId);\n",
              "  outputElement.innerHTML = '';\n",
              "\n",
              "  const pickedPromise = new Promise((resolve) => {\n",
              "    inputElement.addEventListener('change', (e) => {\n",
              "      resolve(e.target.files);\n",
              "    });\n",
              "  });\n",
              "\n",
              "  const cancel = document.createElement('button');\n",
              "  inputElement.parentElement.appendChild(cancel);\n",
              "  cancel.textContent = 'Cancel upload';\n",
              "  const cancelPromise = new Promise((resolve) => {\n",
              "    cancel.onclick = () => {\n",
              "      resolve(null);\n",
              "    };\n",
              "  });\n",
              "\n",
              "  // Wait for the user to pick the files.\n",
              "  const files = yield {\n",
              "    promise: Promise.race([pickedPromise, cancelPromise]),\n",
              "    response: {\n",
              "      action: 'starting',\n",
              "    }\n",
              "  };\n",
              "\n",
              "  cancel.remove();\n",
              "\n",
              "  // Disable the input element since further picks are not allowed.\n",
              "  inputElement.disabled = true;\n",
              "\n",
              "  if (!files) {\n",
              "    return {\n",
              "      response: {\n",
              "        action: 'complete',\n",
              "      }\n",
              "    };\n",
              "  }\n",
              "\n",
              "  for (const file of files) {\n",
              "    const li = document.createElement('li');\n",
              "    li.append(span(file.name, {fontWeight: 'bold'}));\n",
              "    li.append(span(\n",
              "        `(${file.type || 'n/a'}) - ${file.size} bytes, ` +\n",
              "        `last modified: ${\n",
              "            file.lastModifiedDate ? file.lastModifiedDate.toLocaleDateString() :\n",
              "                                    'n/a'} - `));\n",
              "    const percent = span('0% done');\n",
              "    li.appendChild(percent);\n",
              "\n",
              "    outputElement.appendChild(li);\n",
              "\n",
              "    const fileDataPromise = new Promise((resolve) => {\n",
              "      const reader = new FileReader();\n",
              "      reader.onload = (e) => {\n",
              "        resolve(e.target.result);\n",
              "      };\n",
              "      reader.readAsArrayBuffer(file);\n",
              "    });\n",
              "    // Wait for the data to be ready.\n",
              "    let fileData = yield {\n",
              "      promise: fileDataPromise,\n",
              "      response: {\n",
              "        action: 'continue',\n",
              "      }\n",
              "    };\n",
              "\n",
              "    // Use a chunked sending to avoid message size limits. See b/62115660.\n",
              "    let position = 0;\n",
              "    do {\n",
              "      const length = Math.min(fileData.byteLength - position, MAX_PAYLOAD_SIZE);\n",
              "      const chunk = new Uint8Array(fileData, position, length);\n",
              "      position += length;\n",
              "\n",
              "      const base64 = btoa(String.fromCharCode.apply(null, chunk));\n",
              "      yield {\n",
              "        response: {\n",
              "          action: 'append',\n",
              "          file: file.name,\n",
              "          data: base64,\n",
              "        },\n",
              "      };\n",
              "\n",
              "      let percentDone = fileData.byteLength === 0 ?\n",
              "          100 :\n",
              "          Math.round((position / fileData.byteLength) * 100);\n",
              "      percent.textContent = `${percentDone}% done`;\n",
              "\n",
              "    } while (position < fileData.byteLength);\n",
              "  }\n",
              "\n",
              "  // All done.\n",
              "  yield {\n",
              "    response: {\n",
              "      action: 'complete',\n",
              "    }\n",
              "  };\n",
              "}\n",
              "\n",
              "scope.google = scope.google || {};\n",
              "scope.google.colab = scope.google.colab || {};\n",
              "scope.google.colab._files = {\n",
              "  _uploadFiles,\n",
              "  _uploadFilesContinue,\n",
              "};\n",
              "})(self);\n",
              "</script> "
            ]
          },
          "metadata": {}
        },
        {
          "output_type": "stream",
          "name": "stdout",
          "text": [
            "Saving u.data to u (1).data\n"
          ]
        }
      ]
    },
    {
      "cell_type": "code",
      "source": [
        "df = pd.read_csv(\"u (1).data\",sep='\\t', header=None)"
      ],
      "metadata": {
        "id": "35QKF_HGIntQ"
      },
      "execution_count": 81,
      "outputs": []
    },
    {
      "cell_type": "code",
      "source": [
        "df.head(15)"
      ],
      "metadata": {
        "colab": {
          "base_uri": "https://localhost:8080/",
          "height": 519
        },
        "id": "5TwSEFPLE-pN",
        "outputId": "5233d894-d896-4284-cf4e-591996b844fb"
      },
      "execution_count": 82,
      "outputs": [
        {
          "output_type": "execute_result",
          "data": {
            "text/plain": [
              "      0     1  2          3\n",
              "0   196   242  3  881250949\n",
              "1   186   302  3  891717742\n",
              "2    22   377  1  878887116\n",
              "3   244    51  2  880606923\n",
              "4   166   346  1  886397596\n",
              "5   298   474  4  884182806\n",
              "6   115   265  2  881171488\n",
              "7   253   465  5  891628467\n",
              "8   305   451  3  886324817\n",
              "9     6    86  3  883603013\n",
              "10   62   257  2  879372434\n",
              "11  286  1014  5  879781125\n",
              "12  200   222  5  876042340\n",
              "13  210    40  3  891035994\n",
              "14  224    29  3  888104457"
            ],
            "text/html": [
              "\n",
              "  <div id=\"df-cf9fc3cb-edec-4d0a-9126-1f97cbf1e57e\" class=\"colab-df-container\">\n",
              "    <div>\n",
              "<style scoped>\n",
              "    .dataframe tbody tr th:only-of-type {\n",
              "        vertical-align: middle;\n",
              "    }\n",
              "\n",
              "    .dataframe tbody tr th {\n",
              "        vertical-align: top;\n",
              "    }\n",
              "\n",
              "    .dataframe thead th {\n",
              "        text-align: right;\n",
              "    }\n",
              "</style>\n",
              "<table border=\"1\" class=\"dataframe\">\n",
              "  <thead>\n",
              "    <tr style=\"text-align: right;\">\n",
              "      <th></th>\n",
              "      <th>0</th>\n",
              "      <th>1</th>\n",
              "      <th>2</th>\n",
              "      <th>3</th>\n",
              "    </tr>\n",
              "  </thead>\n",
              "  <tbody>\n",
              "    <tr>\n",
              "      <th>0</th>\n",
              "      <td>196</td>\n",
              "      <td>242</td>\n",
              "      <td>3</td>\n",
              "      <td>881250949</td>\n",
              "    </tr>\n",
              "    <tr>\n",
              "      <th>1</th>\n",
              "      <td>186</td>\n",
              "      <td>302</td>\n",
              "      <td>3</td>\n",
              "      <td>891717742</td>\n",
              "    </tr>\n",
              "    <tr>\n",
              "      <th>2</th>\n",
              "      <td>22</td>\n",
              "      <td>377</td>\n",
              "      <td>1</td>\n",
              "      <td>878887116</td>\n",
              "    </tr>\n",
              "    <tr>\n",
              "      <th>3</th>\n",
              "      <td>244</td>\n",
              "      <td>51</td>\n",
              "      <td>2</td>\n",
              "      <td>880606923</td>\n",
              "    </tr>\n",
              "    <tr>\n",
              "      <th>4</th>\n",
              "      <td>166</td>\n",
              "      <td>346</td>\n",
              "      <td>1</td>\n",
              "      <td>886397596</td>\n",
              "    </tr>\n",
              "    <tr>\n",
              "      <th>5</th>\n",
              "      <td>298</td>\n",
              "      <td>474</td>\n",
              "      <td>4</td>\n",
              "      <td>884182806</td>\n",
              "    </tr>\n",
              "    <tr>\n",
              "      <th>6</th>\n",
              "      <td>115</td>\n",
              "      <td>265</td>\n",
              "      <td>2</td>\n",
              "      <td>881171488</td>\n",
              "    </tr>\n",
              "    <tr>\n",
              "      <th>7</th>\n",
              "      <td>253</td>\n",
              "      <td>465</td>\n",
              "      <td>5</td>\n",
              "      <td>891628467</td>\n",
              "    </tr>\n",
              "    <tr>\n",
              "      <th>8</th>\n",
              "      <td>305</td>\n",
              "      <td>451</td>\n",
              "      <td>3</td>\n",
              "      <td>886324817</td>\n",
              "    </tr>\n",
              "    <tr>\n",
              "      <th>9</th>\n",
              "      <td>6</td>\n",
              "      <td>86</td>\n",
              "      <td>3</td>\n",
              "      <td>883603013</td>\n",
              "    </tr>\n",
              "    <tr>\n",
              "      <th>10</th>\n",
              "      <td>62</td>\n",
              "      <td>257</td>\n",
              "      <td>2</td>\n",
              "      <td>879372434</td>\n",
              "    </tr>\n",
              "    <tr>\n",
              "      <th>11</th>\n",
              "      <td>286</td>\n",
              "      <td>1014</td>\n",
              "      <td>5</td>\n",
              "      <td>879781125</td>\n",
              "    </tr>\n",
              "    <tr>\n",
              "      <th>12</th>\n",
              "      <td>200</td>\n",
              "      <td>222</td>\n",
              "      <td>5</td>\n",
              "      <td>876042340</td>\n",
              "    </tr>\n",
              "    <tr>\n",
              "      <th>13</th>\n",
              "      <td>210</td>\n",
              "      <td>40</td>\n",
              "      <td>3</td>\n",
              "      <td>891035994</td>\n",
              "    </tr>\n",
              "    <tr>\n",
              "      <th>14</th>\n",
              "      <td>224</td>\n",
              "      <td>29</td>\n",
              "      <td>3</td>\n",
              "      <td>888104457</td>\n",
              "    </tr>\n",
              "  </tbody>\n",
              "</table>\n",
              "</div>\n",
              "    <div class=\"colab-df-buttons\">\n",
              "\n",
              "  <div class=\"colab-df-container\">\n",
              "    <button class=\"colab-df-convert\" onclick=\"convertToInteractive('df-cf9fc3cb-edec-4d0a-9126-1f97cbf1e57e')\"\n",
              "            title=\"Convert this dataframe to an interactive table.\"\n",
              "            style=\"display:none;\">\n",
              "\n",
              "  <svg xmlns=\"http://www.w3.org/2000/svg\" height=\"24px\" viewBox=\"0 -960 960 960\">\n",
              "    <path d=\"M120-120v-720h720v720H120Zm60-500h600v-160H180v160Zm220 220h160v-160H400v160Zm0 220h160v-160H400v160ZM180-400h160v-160H180v160Zm440 0h160v-160H620v160ZM180-180h160v-160H180v160Zm440 0h160v-160H620v160Z\"/>\n",
              "  </svg>\n",
              "    </button>\n",
              "\n",
              "  <style>\n",
              "    .colab-df-container {\n",
              "      display:flex;\n",
              "      gap: 12px;\n",
              "    }\n",
              "\n",
              "    .colab-df-convert {\n",
              "      background-color: #E8F0FE;\n",
              "      border: none;\n",
              "      border-radius: 50%;\n",
              "      cursor: pointer;\n",
              "      display: none;\n",
              "      fill: #1967D2;\n",
              "      height: 32px;\n",
              "      padding: 0 0 0 0;\n",
              "      width: 32px;\n",
              "    }\n",
              "\n",
              "    .colab-df-convert:hover {\n",
              "      background-color: #E2EBFA;\n",
              "      box-shadow: 0px 1px 2px rgba(60, 64, 67, 0.3), 0px 1px 3px 1px rgba(60, 64, 67, 0.15);\n",
              "      fill: #174EA6;\n",
              "    }\n",
              "\n",
              "    .colab-df-buttons div {\n",
              "      margin-bottom: 4px;\n",
              "    }\n",
              "\n",
              "    [theme=dark] .colab-df-convert {\n",
              "      background-color: #3B4455;\n",
              "      fill: #D2E3FC;\n",
              "    }\n",
              "\n",
              "    [theme=dark] .colab-df-convert:hover {\n",
              "      background-color: #434B5C;\n",
              "      box-shadow: 0px 1px 3px 1px rgba(0, 0, 0, 0.15);\n",
              "      filter: drop-shadow(0px 1px 2px rgba(0, 0, 0, 0.3));\n",
              "      fill: #FFFFFF;\n",
              "    }\n",
              "  </style>\n",
              "\n",
              "    <script>\n",
              "      const buttonEl =\n",
              "        document.querySelector('#df-cf9fc3cb-edec-4d0a-9126-1f97cbf1e57e button.colab-df-convert');\n",
              "      buttonEl.style.display =\n",
              "        google.colab.kernel.accessAllowed ? 'block' : 'none';\n",
              "\n",
              "      async function convertToInteractive(key) {\n",
              "        const element = document.querySelector('#df-cf9fc3cb-edec-4d0a-9126-1f97cbf1e57e');\n",
              "        const dataTable =\n",
              "          await google.colab.kernel.invokeFunction('convertToInteractive',\n",
              "                                                    [key], {});\n",
              "        if (!dataTable) return;\n",
              "\n",
              "        const docLinkHtml = 'Like what you see? Visit the ' +\n",
              "          '<a target=\"_blank\" href=https://colab.research.google.com/notebooks/data_table.ipynb>data table notebook</a>'\n",
              "          + ' to learn more about interactive tables.';\n",
              "        element.innerHTML = '';\n",
              "        dataTable['output_type'] = 'display_data';\n",
              "        await google.colab.output.renderOutput(dataTable, element);\n",
              "        const docLink = document.createElement('div');\n",
              "        docLink.innerHTML = docLinkHtml;\n",
              "        element.appendChild(docLink);\n",
              "      }\n",
              "    </script>\n",
              "  </div>\n",
              "\n",
              "\n",
              "<div id=\"df-8ffe677b-c8ba-4c96-9f61-fe08bdebe8fb\">\n",
              "  <button class=\"colab-df-quickchart\" onclick=\"quickchart('df-8ffe677b-c8ba-4c96-9f61-fe08bdebe8fb')\"\n",
              "            title=\"Suggest charts\"\n",
              "            style=\"display:none;\">\n",
              "\n",
              "<svg xmlns=\"http://www.w3.org/2000/svg\" height=\"24px\"viewBox=\"0 0 24 24\"\n",
              "     width=\"24px\">\n",
              "    <g>\n",
              "        <path d=\"M19 3H5c-1.1 0-2 .9-2 2v14c0 1.1.9 2 2 2h14c1.1 0 2-.9 2-2V5c0-1.1-.9-2-2-2zM9 17H7v-7h2v7zm4 0h-2V7h2v10zm4 0h-2v-4h2v4z\"/>\n",
              "    </g>\n",
              "</svg>\n",
              "  </button>\n",
              "\n",
              "<style>\n",
              "  .colab-df-quickchart {\n",
              "      --bg-color: #E8F0FE;\n",
              "      --fill-color: #1967D2;\n",
              "      --hover-bg-color: #E2EBFA;\n",
              "      --hover-fill-color: #174EA6;\n",
              "      --disabled-fill-color: #AAA;\n",
              "      --disabled-bg-color: #DDD;\n",
              "  }\n",
              "\n",
              "  [theme=dark] .colab-df-quickchart {\n",
              "      --bg-color: #3B4455;\n",
              "      --fill-color: #D2E3FC;\n",
              "      --hover-bg-color: #434B5C;\n",
              "      --hover-fill-color: #FFFFFF;\n",
              "      --disabled-bg-color: #3B4455;\n",
              "      --disabled-fill-color: #666;\n",
              "  }\n",
              "\n",
              "  .colab-df-quickchart {\n",
              "    background-color: var(--bg-color);\n",
              "    border: none;\n",
              "    border-radius: 50%;\n",
              "    cursor: pointer;\n",
              "    display: none;\n",
              "    fill: var(--fill-color);\n",
              "    height: 32px;\n",
              "    padding: 0;\n",
              "    width: 32px;\n",
              "  }\n",
              "\n",
              "  .colab-df-quickchart:hover {\n",
              "    background-color: var(--hover-bg-color);\n",
              "    box-shadow: 0 1px 2px rgba(60, 64, 67, 0.3), 0 1px 3px 1px rgba(60, 64, 67, 0.15);\n",
              "    fill: var(--button-hover-fill-color);\n",
              "  }\n",
              "\n",
              "  .colab-df-quickchart-complete:disabled,\n",
              "  .colab-df-quickchart-complete:disabled:hover {\n",
              "    background-color: var(--disabled-bg-color);\n",
              "    fill: var(--disabled-fill-color);\n",
              "    box-shadow: none;\n",
              "  }\n",
              "\n",
              "  .colab-df-spinner {\n",
              "    border: 2px solid var(--fill-color);\n",
              "    border-color: transparent;\n",
              "    border-bottom-color: var(--fill-color);\n",
              "    animation:\n",
              "      spin 1s steps(1) infinite;\n",
              "  }\n",
              "\n",
              "  @keyframes spin {\n",
              "    0% {\n",
              "      border-color: transparent;\n",
              "      border-bottom-color: var(--fill-color);\n",
              "      border-left-color: var(--fill-color);\n",
              "    }\n",
              "    20% {\n",
              "      border-color: transparent;\n",
              "      border-left-color: var(--fill-color);\n",
              "      border-top-color: var(--fill-color);\n",
              "    }\n",
              "    30% {\n",
              "      border-color: transparent;\n",
              "      border-left-color: var(--fill-color);\n",
              "      border-top-color: var(--fill-color);\n",
              "      border-right-color: var(--fill-color);\n",
              "    }\n",
              "    40% {\n",
              "      border-color: transparent;\n",
              "      border-right-color: var(--fill-color);\n",
              "      border-top-color: var(--fill-color);\n",
              "    }\n",
              "    60% {\n",
              "      border-color: transparent;\n",
              "      border-right-color: var(--fill-color);\n",
              "    }\n",
              "    80% {\n",
              "      border-color: transparent;\n",
              "      border-right-color: var(--fill-color);\n",
              "      border-bottom-color: var(--fill-color);\n",
              "    }\n",
              "    90% {\n",
              "      border-color: transparent;\n",
              "      border-bottom-color: var(--fill-color);\n",
              "    }\n",
              "  }\n",
              "</style>\n",
              "\n",
              "  <script>\n",
              "    async function quickchart(key) {\n",
              "      const quickchartButtonEl =\n",
              "        document.querySelector('#' + key + ' button');\n",
              "      quickchartButtonEl.disabled = true;  // To prevent multiple clicks.\n",
              "      quickchartButtonEl.classList.add('colab-df-spinner');\n",
              "      try {\n",
              "        const charts = await google.colab.kernel.invokeFunction(\n",
              "            'suggestCharts', [key], {});\n",
              "      } catch (error) {\n",
              "        console.error('Error during call to suggestCharts:', error);\n",
              "      }\n",
              "      quickchartButtonEl.classList.remove('colab-df-spinner');\n",
              "      quickchartButtonEl.classList.add('colab-df-quickchart-complete');\n",
              "    }\n",
              "    (() => {\n",
              "      let quickchartButtonEl =\n",
              "        document.querySelector('#df-8ffe677b-c8ba-4c96-9f61-fe08bdebe8fb button');\n",
              "      quickchartButtonEl.style.display =\n",
              "        google.colab.kernel.accessAllowed ? 'block' : 'none';\n",
              "    })();\n",
              "  </script>\n",
              "</div>\n",
              "    </div>\n",
              "  </div>\n"
            ],
            "application/vnd.google.colaboratory.intrinsic+json": {
              "type": "dataframe",
              "variable_name": "df",
              "summary": "{\n  \"name\": \"df\",\n  \"rows\": 100000,\n  \"fields\": [\n    {\n      \"column\": 0,\n      \"properties\": {\n        \"dtype\": \"number\",\n        \"std\": 266,\n        \"min\": 1,\n        \"max\": 943,\n        \"num_unique_values\": 943,\n        \"samples\": [\n          262,\n          136,\n          821\n        ],\n        \"semantic_type\": \"\",\n        \"description\": \"\"\n      }\n    },\n    {\n      \"column\": 1,\n      \"properties\": {\n        \"dtype\": \"number\",\n        \"std\": 330,\n        \"min\": 1,\n        \"max\": 1682,\n        \"num_unique_values\": 1682,\n        \"samples\": [\n          1557,\n          808,\n          1618\n        ],\n        \"semantic_type\": \"\",\n        \"description\": \"\"\n      }\n    },\n    {\n      \"column\": 2,\n      \"properties\": {\n        \"dtype\": \"number\",\n        \"std\": 1,\n        \"min\": 1,\n        \"max\": 5,\n        \"num_unique_values\": 5,\n        \"samples\": [\n          1,\n          5,\n          2\n        ],\n        \"semantic_type\": \"\",\n        \"description\": \"\"\n      }\n    },\n    {\n      \"column\": 3,\n      \"properties\": {\n        \"dtype\": \"number\",\n        \"std\": 5343856,\n        \"min\": 874724710,\n        \"max\": 893286638,\n        \"num_unique_values\": 49282,\n        \"samples\": [\n          889728713,\n          888443306,\n          880605158\n        ],\n        \"semantic_type\": \"\",\n        \"description\": \"\"\n      }\n    }\n  ]\n}"
            }
          },
          "metadata": {},
          "execution_count": 82
        }
      ]
    },
    {
      "cell_type": "code",
      "source": [
        "df.columns = ['UserID', 'MovieID', 'Rating', 'Timestamp']\n",
        "df = df.astype({\n",
        "    'UserID': 'int',\n",
        "    'MovieID': 'int',\n",
        "    'Rating': 'int',\n",
        "    'Timestamp': 'int'\n",
        "})\n",
        "\n",
        "print(df)"
      ],
      "metadata": {
        "colab": {
          "base_uri": "https://localhost:8080/"
        },
        "id": "x2jMsv6XGKjE",
        "outputId": "858045f3-a32b-4f39-fb60-0a55eb640bcf"
      },
      "execution_count": 83,
      "outputs": [
        {
          "output_type": "stream",
          "name": "stdout",
          "text": [
            "       UserID  MovieID  Rating  Timestamp\n",
            "0         196      242       3  881250949\n",
            "1         186      302       3  891717742\n",
            "2          22      377       1  878887116\n",
            "3         244       51       2  880606923\n",
            "4         166      346       1  886397596\n",
            "...       ...      ...     ...        ...\n",
            "99995     880      476       3  880175444\n",
            "99996     716      204       5  879795543\n",
            "99997     276     1090       1  874795795\n",
            "99998      13      225       2  882399156\n",
            "99999      12      203       3  879959583\n",
            "\n",
            "[100000 rows x 4 columns]\n"
          ]
        }
      ]
    },
    {
      "cell_type": "code",
      "source": [
        "class MatrixDataLoader:\n",
        "  def __init__(self):\n",
        "        self.A = None\n",
        "  def load_dataset(self, df):\n",
        "        self.A = df.values\n",
        "  def generate_gaussian_matrix(self, rows, columns, mean=0, std_dev=1):\n",
        "    \"\"\"Generate a matrix with Gaussian distributed values.\"\"\"\n",
        "    self.A = np.random.normal(mean, std_dev, (rows, columns))\n",
        "\n",
        "loader = MatrixDataLoader()\n"
      ],
      "metadata": {
        "id": "G4Z8AXQqACyH"
      },
      "execution_count": 84,
      "outputs": []
    },
    {
      "cell_type": "code",
      "source": [
        "loader.load_dataset(df)\n",
        "print(\"Dataset loaded into matrix A:\\n\", loader.A)"
      ],
      "metadata": {
        "colab": {
          "base_uri": "https://localhost:8080/"
        },
        "id": "-lmX4ddX61ii",
        "outputId": "0d591625-f8ea-4659-b47b-32c8081ccdb5"
      },
      "execution_count": 85,
      "outputs": [
        {
          "output_type": "stream",
          "name": "stdout",
          "text": [
            "Dataset loaded into matrix A:\n",
            " [[      196       242         3 881250949]\n",
            " [      186       302         3 891717742]\n",
            " [       22       377         1 878887116]\n",
            " ...\n",
            " [      276      1090         1 874795795]\n",
            " [       13       225         2 882399156]\n",
            " [       12       203         3 879959583]]\n"
          ]
        }
      ]
    },
    {
      "cell_type": "code",
      "source": [
        "loader.generate_gaussian_matrix(rows=100, columns=100, mean=0, std_dev=1)\n",
        "print(\"Synthetic Gaussian matrix A:\\n\", loader.A)"
      ],
      "metadata": {
        "colab": {
          "base_uri": "https://localhost:8080/"
        },
        "id": "gcgDTp3mA3ZT",
        "outputId": "452f6e04-1507-4fcc-fa00-18fe298d60cb"
      },
      "execution_count": 58,
      "outputs": [
        {
          "output_type": "stream",
          "name": "stdout",
          "text": [
            "Synthetic Gaussian matrix A:\n",
            " [[ 0.81202891 -0.37062679 -1.98325885 ...  1.93978275 -0.45055588\n",
            "   0.72114964]\n",
            " [ 1.04774165  2.47908033  0.63568167 ... -1.66625524 -0.53971763\n",
            "   0.05230531]\n",
            " [-0.94769657 -0.5449623  -0.19033886 ...  0.71219389  0.50368763\n",
            "  -1.1948317 ]\n",
            " ...\n",
            " [-1.12419675  0.04644505  0.087513   ...  2.00038343  0.26346237\n",
            "   1.11276832]\n",
            " [-0.18544148 -1.99274675 -1.01536393 ... -0.49196538 -0.67431683\n",
            "   1.55635636]\n",
            " [ 0.64951513 -0.91803655 -1.47039541 ...  0.07604953  0.23947319\n",
            "   0.54327036]]\n"
          ]
        }
      ]
    },
    {
      "cell_type": "code",
      "source": [
        "A=loader.A"
      ],
      "metadata": {
        "id": "3jwYACEXEAxv"
      },
      "execution_count": 86,
      "outputs": []
    },
    {
      "cell_type": "code",
      "source": [
        "#SVD\n",
        "U, S, VT = np.linalg.svd(np.dot(A.T,A))\n",
        "print(\"U:\\n\", U) #direction in the original space where your data lies.\n",
        "print(\"Singular Values:\", S) #contains the singular values of A\n",
        "#square roots of the eigenvalues AA(t)\n",
        "print(\"VT:\\n\", VT) #contains the right singular vectors of A\n",
        "#captures features and pattersn of A\n"
      ],
      "metadata": {
        "colab": {
          "base_uri": "https://localhost:8080/"
        },
        "id": "TIYqlSHZsgtd",
        "outputId": "85859dd0-eb74-4e60-c1bd-91e5b2657bc6"
      },
      "execution_count": 87,
      "outputs": [
        {
          "output_type": "stream",
          "name": "stdout",
          "text": [
            "U:\n",
            " [[ 2.82735281e-02 -7.35296444e-01 -6.77134840e-01 -5.30621170e-03]\n",
            " [ 2.60177353e-02 -6.76632314e-01  7.35856918e-01 -2.52693065e-03]\n",
            " [ 2.15774999e-04 -5.61153841e-03 -1.73359135e-03  9.99982729e-01]\n",
            " [-9.99261547e-01 -3.84234499e-02 -3.44940995e-08  9.34947977e-10]]\n",
            "Singular Values: [1.44426272e+18 2.13545504e+15 9.09331528e+09 4.37751290e+05]\n",
            "VT:\n",
            " [[-2.82735281e-02 -2.60177353e-02 -2.15774999e-04  9.99261547e-01]\n",
            " [-7.35296444e-01 -6.76632314e-01 -5.61153841e-03 -3.84234499e-02]\n",
            " [-6.77134840e-01  7.35856918e-01 -1.73359136e-03 -3.44940994e-08]\n",
            " [-5.30621171e-03 -2.52693064e-03  9.99982729e-01  9.34947968e-10]]\n"
          ]
        }
      ]
    },
    {
      "cell_type": "code",
      "source": [
        "U, S, VT = np.linalg.svd(np.dot(Ag.T,Ag))\n",
        "print(\"U:\\n\", U) #direction in the original space where your data lies.\n",
        "print(\"Singular Values:\", S) #contains the singular values of Ag\n",
        "#square roots of the eigenvalues AgAg(t)\n",
        "print(\"VT:\\n\", VT) #contains the right singular vectors of Ag\n",
        "#captures features and pattersn of Ag"
      ],
      "metadata": {
        "id": "H1mFQLKlst8N",
        "colab": {
          "base_uri": "https://localhost:8080/"
        },
        "outputId": "07485610-2ee4-4491-b871-ea5f7ba93a9d"
      },
      "execution_count": 89,
      "outputs": [
        {
          "output_type": "stream",
          "name": "stdout",
          "text": [
            "U:\n",
            " [[-0.02665446  0.07140398 -0.08921879 ... -0.06661709 -0.10160245\n",
            "  -0.04795777]\n",
            " [ 0.19993985  0.07720346 -0.03332981 ...  0.16889738  0.15358963\n",
            "  -0.00745209]\n",
            " [ 0.20537601  0.05846483  0.0854364  ...  0.15918618 -0.19430713\n",
            "  -0.12801661]\n",
            " ...\n",
            " [ 0.07051044 -0.0479638  -0.03595611 ...  0.17892044  0.03830502\n",
            "  -0.00939205]\n",
            " [-0.14633163 -0.17159803 -0.00268708 ... -0.16677978 -0.02987787\n",
            "   0.0140506 ]\n",
            " [ 0.35536695 -0.16414992 -0.06837185 ...  0.01278595  0.15708683\n",
            "   0.10728811]]\n",
            "Singular Values: [4.13660313e+02 3.62189241e+02 3.51054590e+02 3.32392735e+02\n",
            " 3.14449833e+02 2.98210393e+02 2.80000713e+02 2.72098600e+02\n",
            " 2.67071494e+02 2.55337059e+02 2.51468544e+02 2.44209902e+02\n",
            " 2.36958574e+02 2.32747831e+02 2.27824551e+02 2.10057194e+02\n",
            " 2.07369133e+02 2.02395450e+02 1.97442538e+02 1.86285937e+02\n",
            " 1.79946871e+02 1.78047336e+02 1.76021037e+02 1.66727452e+02\n",
            " 1.61165911e+02 1.57275370e+02 1.53038003e+02 1.49043597e+02\n",
            " 1.44651868e+02 1.41829301e+02 1.35534437e+02 1.33792592e+02\n",
            " 1.28870061e+02 1.25246337e+02 1.19351679e+02 1.18580203e+02\n",
            " 1.15577597e+02 1.06880825e+02 1.00903557e+02 9.96833533e+01\n",
            " 9.86266242e+01 9.20424100e+01 8.66030150e+01 8.49510427e+01\n",
            " 8.19648570e+01 7.97715861e+01 7.50387049e+01 7.22024227e+01\n",
            " 6.87958586e+01 6.69986383e+01 6.37395887e+01 6.17447897e+01\n",
            " 5.78297777e+01 5.69888057e+01 5.47773383e+01 5.03113703e+01\n",
            " 4.90023120e+01 4.62283720e+01 4.39645891e+01 4.33417911e+01\n",
            " 4.06956744e+01 3.62009613e+01 3.47714269e+01 3.40073581e+01\n",
            " 3.21015908e+01 2.96798916e+01 2.94615568e+01 2.59379637e+01\n",
            " 2.42132951e+01 2.32423048e+01 2.12671493e+01 1.99508552e+01\n",
            " 1.86013126e+01 1.74461580e+01 1.65115995e+01 1.56512461e+01\n",
            " 1.45994630e+01 1.30545978e+01 1.24015422e+01 1.12451477e+01\n",
            " 1.00417364e+01 8.41225345e+00 8.24568044e+00 6.60270795e+00\n",
            " 5.99158405e+00 5.34343369e+00 5.08630920e+00 4.60114026e+00\n",
            " 3.35688123e+00 3.25861373e+00 2.18193189e+00 2.08324219e+00\n",
            " 1.50852199e+00 1.14173651e+00 6.23727723e-01 3.84790168e-01\n",
            " 2.91590366e-01 2.41018853e-01 2.65571012e-02 8.12634824e-03]\n",
            "VT:\n",
            " [[-0.02665446  0.19993985  0.20537601 ...  0.07051044 -0.14633163\n",
            "   0.35536695]\n",
            " [ 0.07140398  0.07720346  0.05846483 ... -0.0479638  -0.17159803\n",
            "  -0.16414992]\n",
            " [-0.08921879 -0.03332981  0.0854364  ... -0.03595611 -0.00268708\n",
            "  -0.06837185]\n",
            " ...\n",
            " [-0.06661709  0.16889738  0.15918618 ...  0.17892044 -0.16677978\n",
            "   0.01278595]\n",
            " [-0.10160245  0.15358963 -0.19430713 ...  0.03830502 -0.02987787\n",
            "   0.15708683]\n",
            " [-0.04795777 -0.00745209 -0.12801661 ... -0.00939205  0.0140506\n",
            "   0.10728811]]\n"
          ]
        }
      ]
    },
    {
      "cell_type": "code",
      "source": [
        "import matplotlib.pyplot as plt\n",
        "# Plotting the singular values\n",
        "plt.figure(figsize=(10, 10))\n",
        "plt.plot(S, marker='o')\n",
        "plt.title('Singular Values')\n",
        "plt.xlabel('Index')\n",
        "plt.ylabel('Value')\n",
        "plt.yscale('log')\n",
        "# Log scale to see the drop off graph clearly\n",
        "plt.grid(True)\n",
        "plt.show()"
      ],
      "metadata": {
        "id": "G0c3e-zJst_m",
        "colab": {
          "base_uri": "https://localhost:8080/",
          "height": 872
        },
        "outputId": "c99680ea-d9c5-486e-8b26-bf20fd9a3e5d"
      },
      "execution_count": 90,
      "outputs": [
        {
          "output_type": "display_data",
          "data": {
            "text/plain": [
              "<Figure size 1000x1000 with 1 Axes>"
            ],
            "image/png": "[encoded data removed]"
          },
          "metadata": {}
        }
      ]
    },
    {
      "cell_type": "code",
      "source": [
        "k = 90\n",
        "U_k = U[:, :k] # We select first k columns of U\n",
        "S_diag = np.diag(S) #Then convert S into a diagonal matrix\n",
        "S_k = S_diag[:k, :k] #We take the first k singular values (top-left k x k submatrix of S_diag)\n",
        "VT_k = VT[:k, :] #Select the first k rows of VT\n",
        "A_k = np.dot(U_k, np.dot(S_k, VT_k)) #rank-k approximation\n",
        "print(\"Rank-k Approximation of AgAg^T:\\n\", A_k)"
      ],
      "metadata": {
        "colab": {
          "base_uri": "https://localhost:8080/"
        },
        "id": "MXIhP5gOpGaB",
        "outputId": "cf117435-29ae-446b-a172-04052a282a6d"
      },
      "execution_count": 91,
      "outputs": [
        {
          "output_type": "stream",
          "name": "stdout",
          "text": [
            "Rank-k Approximation of AgAg^T:\n",
            " [[ 96.46356888   7.20867467  -5.69942777 ...  -0.37869482   9.9824243\n",
            "  -17.62167309]\n",
            " [  7.20867467 101.94941664   6.02694807 ...  -6.72487827 -16.47776993\n",
            "    7.54618599]\n",
            " [ -5.69942777   6.02694807 102.30789119 ...   2.41946029   3.69396962\n",
            "   26.11706742]\n",
            " ...\n",
            " [ -0.37869482  -6.72487827   2.41946029 ...  98.4403904    5.09240754\n",
            "   25.72309192]\n",
            " [  9.9824243  -16.47776993   3.69396962 ...   5.09240754 129.5221493\n",
            "    3.64474348]\n",
            " [-17.62167309   7.54618599  26.11706742 ...  25.72309192   3.64474348\n",
            "  139.79045885]]\n"
          ]
        }
      ]
    },
    {
      "cell_type": "code",
      "source": [
        "noise_mean = 0  #mean of the Gaussian noise\n",
        "noise_std_dev = 0.1  #std deviation of the Gaussian noise\n",
        "rows, columns = Ag.shape #Shape of Ag\n",
        "noise = np.random.normal(noise_mean, noise_std_dev, (rows, columns))\n",
        "#generating Gaussian noise with the same shape\n",
        "Ag_noisy = Ag + noise #adding the noise\n",
        "print(\"Rank-k Approximation of AgAg^T with Gaussian Noise:\\n\", Ag_noisy)"
      ],
      "metadata": {
        "colab": {
          "base_uri": "https://localhost:8080/"
        },
        "id": "6uKW4JA4wRUb",
        "outputId": "59183d0b-5c59-4af3-a89f-c9dd691a0315"
      },
      "execution_count": 92,
      "outputs": [
        {
          "output_type": "stream",
          "name": "stdout",
          "text": [
            "Rank-k Approximation of AgAg^T with Gaussian Noise:\n",
            " [[ 0.60265929 -1.21182911 -0.16707369 ...  0.76632485  0.49835473\n",
            "  -1.33055716]\n",
            " [-1.30752245 -1.30825961  2.41069    ... -1.60468084  0.78038112\n",
            "   1.28548129]\n",
            " [ 0.66296687 -0.02756689  1.12253241 ...  0.91887293  0.26123301\n",
            "   1.87842282]\n",
            " ...\n",
            " [-1.13841427 -1.13480497 -0.76175812 ...  1.26319834  0.03402324\n",
            "   1.16862739]\n",
            " [ 0.29948277  0.63323776 -0.74093803 ... -1.33402742 -1.13002949\n",
            "   0.90528726]\n",
            " [-0.79111045  0.41522262  0.38151511 ...  0.45941497 -1.32527568\n",
            "   1.49754432]]\n"
          ]
        }
      ]
    },
    {
      "cell_type": "code",
      "source": [
        "Un, Sn, VTn = np.linalg.svd(np.dot(Ag_noisy.T,Ag_noisy))\n",
        "print(\"Un:\\n\", Un)\n",
        "print(\"Singular Values:\", Sn)\n",
        "print(\"VTn:\\n\", VTn)"
      ],
      "metadata": {
        "colab": {
          "base_uri": "https://localhost:8080/"
        },
        "id": "RJU12mS9L487",
        "outputId": "f72f34b9-c22b-4843-fd2c-5279eb37d1e7"
      },
      "execution_count": 93,
      "outputs": [
        {
          "output_type": "stream",
          "name": "stdout",
          "text": [
            "Un:\n",
            " [[-0.03490389  0.08930457 -0.03487785 ...  0.04423148  0.01769885\n",
            "   0.06203142]\n",
            " [ 0.18703089  0.07240449 -0.03921781 ...  0.06364612 -0.14104486\n",
            "  -0.05989358]\n",
            " [ 0.20590554  0.08226399  0.10593157 ...  0.05595877  0.1456248\n",
            "   0.16023607]\n",
            " ...\n",
            " [ 0.07332199 -0.05024568 -0.02678807 ...  0.15186454 -0.00055212\n",
            "  -0.09698875]\n",
            " [-0.13621877 -0.17730703  0.0278403  ...  0.02138772  0.04004366\n",
            "   0.06780656]\n",
            " [ 0.35924844 -0.14653793 -0.08895575 ...  0.05494813 -0.1100655\n",
            "  -0.15710777]]\n",
            "Singular Values: [4.16631270e+02 3.65549632e+02 3.57742345e+02 3.31867685e+02\n",
            " 3.21413589e+02 3.04677385e+02 2.84530293e+02 2.77568797e+02\n",
            " 2.72774410e+02 2.62268552e+02 2.57163092e+02 2.48798269e+02\n",
            " 2.41127014e+02 2.32871554e+02 2.25674844e+02 2.10162284e+02\n",
            " 2.07528786e+02 2.06392243e+02 1.97109626e+02 1.94841929e+02\n",
            " 1.83237311e+02 1.82299027e+02 1.72708632e+02 1.64190190e+02\n",
            " 1.59821880e+02 1.57784479e+02 1.54752129e+02 1.48377802e+02\n",
            " 1.45086968e+02 1.42078735e+02 1.39799758e+02 1.33109244e+02\n",
            " 1.32016288e+02 1.26461892e+02 1.22842696e+02 1.20201382e+02\n",
            " 1.12738385e+02 1.09325749e+02 1.01442333e+02 9.92233362e+01\n",
            " 9.67381457e+01 9.50817337e+01 8.72165487e+01 8.68380874e+01\n",
            " 8.60547318e+01 8.10758562e+01 7.61908835e+01 7.20046091e+01\n",
            " 6.91712719e+01 6.65338000e+01 6.51431540e+01 6.31099736e+01\n",
            " 5.68142705e+01 5.63784657e+01 5.45742489e+01 5.05797547e+01\n",
            " 4.84796540e+01 4.68083970e+01 4.55172881e+01 4.30673762e+01\n",
            " 3.94176590e+01 3.67501334e+01 3.58379644e+01 3.45950956e+01\n",
            " 3.23660925e+01 2.95840924e+01 2.68664366e+01 2.62932511e+01\n",
            " 2.40955916e+01 2.34916801e+01 2.20404103e+01 2.00520812e+01\n",
            " 1.85973540e+01 1.72749024e+01 1.67075883e+01 1.58529727e+01\n",
            " 1.39895713e+01 1.32275102e+01 1.25632643e+01 1.12592324e+01\n",
            " 9.69727015e+00 8.68173475e+00 7.68016831e+00 6.97817406e+00\n",
            " 5.91331449e+00 5.73355199e+00 4.65812127e+00 4.42364600e+00\n",
            " 3.10099171e+00 2.73949043e+00 2.69420167e+00 1.60815011e+00\n",
            " 1.58868423e+00 1.15963783e+00 7.33337794e-01 4.77056715e-01\n",
            " 4.42549514e-01 1.48164715e-01 1.26283787e-01 1.86712821e-02]\n",
            "VTn:\n",
            " [[-0.03490389  0.18703089  0.20590554 ...  0.07332199 -0.13621877\n",
            "   0.35924844]\n",
            " [ 0.08930457  0.07240449  0.08226399 ... -0.05024568 -0.17730703\n",
            "  -0.14653793]\n",
            " [-0.03487785 -0.03921781  0.10593157 ... -0.02678807  0.0278403\n",
            "  -0.08895575]\n",
            " ...\n",
            " [ 0.04423148  0.06364612  0.05595877 ...  0.15186454  0.02138772\n",
            "   0.05494813]\n",
            " [ 0.01769885 -0.14104486  0.1456248  ... -0.00055212  0.04004366\n",
            "  -0.1100655 ]\n",
            " [ 0.06203142 -0.05989358  0.16023607 ... -0.09698875  0.06780656\n",
            "  -0.15710777]]\n"
          ]
        }
      ]
    },
    {
      "cell_type": "code",
      "source": [
        "k = 90\n",
        "U_nk = Un[:, :k]\n",
        "S_ndiag = np.diag(Sn)\n",
        "S_nk = S_diag[:k, :k]\n",
        "VT_nk = VTn[:k, :]\n",
        "A_nk = np.dot(U_nk, np.dot(S_nk, VT_nk))\n",
        "print(\"Rank-k Approximation of Ag_noisy^T:\\n\", A_nk)"
      ],
      "metadata": {
        "colab": {
          "base_uri": "https://localhost:8080/"
        },
        "id": "qEKPYqPoE8Ie",
        "outputId": "57117e8a-84d1-4f3f-8b1f-051f69e9f58d"
      },
      "execution_count": 94,
      "outputs": [
        {
          "output_type": "stream",
          "name": "stdout",
          "text": [
            "Rank-k Approximation of Ag_noisy^T:\n",
            " [[ 93.00948916   6.41091956  -4.22037618 ...  -2.04720868  10.40415344\n",
            "  -16.3626151 ]\n",
            " [  6.41091956 103.4268676    5.33444352 ...  -6.76194195 -14.46554353\n",
            "    7.55004873]\n",
            " [ -4.22037618   5.33444352 103.7375558  ...   1.96738003   3.10541542\n",
            "   25.43248377]\n",
            " ...\n",
            " [ -2.04720868  -6.76194195   1.96738003 ...  98.83712129   2.46865823\n",
            "   24.77019525]\n",
            " [ 10.40415344 -14.46554353   3.10541542 ...   2.46865823 130.45930671\n",
            "    2.237832  ]\n",
            " [-16.3626151    7.55004873  25.43248377 ...  24.77019525   2.237832\n",
            "  139.15496357]]\n"
          ]
        }
      ]
    },
    {
      "cell_type": "code",
      "source": [
        "mse = np.mean((A_nk - A_k) ** 2)\n",
        "print(\"MSE\", mse)"
      ],
      "metadata": {
        "colab": {
          "base_uri": "https://localhost:8080/"
        },
        "id": "kVPNwBJ-yxTo",
        "outputId": "8ef952b9-e978-4169-aefb-184c203341e2"
      },
      "execution_count": 95,
      "outputs": [
        {
          "output_type": "stream",
          "name": "stdout",
          "text": [
            "MSE 2.0306372278941383\n"
          ]
        }
      ]
    },
    {
      "cell_type": "code",
      "source": [],
      "metadata": {
        "id": "rmgnUNlq0hs1"
      },
      "execution_count": null,
      "outputs": []
    },
    {
      "cell_type": "code",
      "source": [],
      "metadata": {
        "id": "VqJMCSKrN1sp"
      },
      "execution_count": null,
      "outputs": []
    }
  ]
}